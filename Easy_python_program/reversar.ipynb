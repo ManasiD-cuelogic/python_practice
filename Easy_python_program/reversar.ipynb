{
 "cells": [
  {
   "cell_type": "markdown",
   "id": "consecutive-occasion",
   "metadata": {},
   "source": [
    "# The Reverser!\n"
   ]
  },
  {
   "cell_type": "markdown",
   "id": "insured-syndrome",
   "metadata": {},
   "source": [
    "The \"Reverser\" takes a string as input and returns that string in reverse order, with the opposite case."
   ]
  },
  {
   "cell_type": "code",
   "execution_count": 4,
   "id": "incident-spring",
   "metadata": {},
   "outputs": [
    {
     "name": "stdout",
     "output_type": "stream",
     "text": [
      "DLROw OLLEh\n",
      "eSrEvEr\n",
      "RADAr\n"
     ]
    }
   ],
   "source": [
    "def reverse(txt):\n",
    "    txt1 = txt.swapcase()\n",
    "    txt1 = txt1[::-1]\n",
    "    print(txt1)\n",
    "    \n",
    "    \n",
    "reverse(\"Hello World\")\n",
    "reverse(\"ReVeRsE\") \n",
    "\n",
    "reverse(\"Radar\")"
   ]
  },
  {
   "cell_type": "code",
   "execution_count": null,
   "id": "white-concert",
   "metadata": {},
   "outputs": [],
   "source": []
  }
 ],
 "metadata": {
  "kernelspec": {
   "display_name": "Python 3",
   "language": "python",
   "name": "python3"
  },
  "language_info": {
   "codemirror_mode": {
    "name": "ipython",
    "version": 3
   },
   "file_extension": ".py",
   "mimetype": "text/x-python",
   "name": "python",
   "nbconvert_exporter": "python",
   "pygments_lexer": "ipython3",
   "version": "3.6.9"
  }
 },
 "nbformat": 4,
 "nbformat_minor": 5
}
