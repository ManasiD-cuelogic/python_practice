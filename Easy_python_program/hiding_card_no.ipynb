{
 "cells": [
  {
   "cell_type": "markdown",
   "id": "liable-southeast",
   "metadata": {},
   "source": [
    "# Hiding the Card Number"
   ]
  },
  {
   "cell_type": "code",
   "execution_count": 9,
   "id": "underlying-young",
   "metadata": {},
   "outputs": [
    {
     "name": "stdout",
     "output_type": "stream",
     "text": [
      "************5678\n",
      "************3213\n",
      "**********5523\n"
     ]
    }
   ],
   "source": [
    "def card_hide(card):\n",
    "    str = ''\n",
    "    for char in card[:-4]:\n",
    "        str+='*'\n",
    "    str+=card[-4:]\n",
    "    return str\n",
    "\n",
    "\n",
    "print(card_hide(\"1234123456785678\"))\n",
    "print(card_hide(\"8754456321113213\")) \n",
    "print(card_hide(\"35123413355523\") )"
   ]
  },
  {
   "cell_type": "code",
   "execution_count": null,
   "id": "cross-compound",
   "metadata": {},
   "outputs": [],
   "source": []
  }
 ],
 "metadata": {
  "kernelspec": {
   "display_name": "Python 3",
   "language": "python",
   "name": "python3"
  },
  "language_info": {
   "codemirror_mode": {
    "name": "ipython",
    "version": 3
   },
   "file_extension": ".py",
   "mimetype": "text/x-python",
   "name": "python",
   "nbconvert_exporter": "python",
   "pygments_lexer": "ipython3",
   "version": "3.6.9"
  }
 },
 "nbformat": 4,
 "nbformat_minor": 5
}
