{
 "cells": [
  {
   "cell_type": "markdown",
   "id": "hourly-chosen",
   "metadata": {},
   "source": [
    "# curzone number"
   ]
  },
  {
   "cell_type": "code",
   "execution_count": 1,
   "id": "interested-simulation",
   "metadata": {},
   "outputs": [
    {
     "name": "stdout",
     "output_type": "stream",
     "text": [
      "enter number: 5\n",
      "False\n"
     ]
    }
   ],
   "source": [
    "def curzon_no(num):\n",
    "    num1 = num ** 2 + 1\n",
    "    num2 = num * 2 + 1\n",
    "    if num1 % num2 == 0:\n",
    "        print(\"True\")\n",
    "    else:\n",
    "        print(\"False\")\n",
    "        \n",
    "if __name__ == \"__main__\":\n",
    "    num = int(input(\"enter number: \"))\n",
    "    curzon_no(num)"
   ]
  },
  {
   "cell_type": "code",
   "execution_count": null,
   "id": "medical-boundary",
   "metadata": {},
   "outputs": [],
   "source": []
  }
 ],
 "metadata": {
  "kernelspec": {
   "display_name": "Python 3",
   "language": "python",
   "name": "python3"
  },
  "language_info": {
   "codemirror_mode": {
    "name": "ipython",
    "version": 3
   },
   "file_extension": ".py",
   "mimetype": "text/x-python",
   "name": "python",
   "nbconvert_exporter": "python",
   "pygments_lexer": "ipython3",
   "version": "3.6.9"
  }
 },
 "nbformat": 4,
 "nbformat_minor": 5
}
