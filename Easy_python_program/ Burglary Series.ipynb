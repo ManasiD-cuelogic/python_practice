{
 "cells": [
  {
   "cell_type": "markdown",
   "id": "local-riding",
   "metadata": {},
   "source": [
    "# Burglary Series (04): Add its Name"
   ]
  },
  {
   "cell_type": "code",
   "execution_count": 4,
   "id": "further-street",
   "metadata": {},
   "outputs": [
    {
     "name": "stdout",
     "output_type": "stream",
     "text": [
      "{'Brutus': 300}\n",
      "{'piano': 500, 'Brutus': 400}\n",
      "{'piano': 500, 'stereo': 300, 'Caligula': 440}\n"
     ]
    }
   ],
   "source": [
    "def add_name(obj, name, value):\n",
    "    obj[name]=value\n",
    "    print(obj)\n",
    "    \n",
    "add_name({}, \"Brutus\", 300)\n",
    "add_name({ \"piano\": 500 }, \"Brutus\", 400)\n",
    "add_name({ \"piano\": 500, \"stereo\": 300 }, \"Caligula\", 440) "
   ]
  },
  {
   "cell_type": "code",
   "execution_count": null,
   "id": "patient-window",
   "metadata": {},
   "outputs": [],
   "source": []
  },
  {
   "cell_type": "code",
   "execution_count": null,
   "id": "inappropriate-exhibition",
   "metadata": {},
   "outputs": [],
   "source": []
  }
 ],
 "metadata": {
  "kernelspec": {
   "display_name": "Python 3",
   "language": "python",
   "name": "python3"
  },
  "language_info": {
   "codemirror_mode": {
    "name": "ipython",
    "version": 3
   },
   "file_extension": ".py",
   "mimetype": "text/x-python",
   "name": "python",
   "nbconvert_exporter": "python",
   "pygments_lexer": "ipython3",
   "version": "3.6.9"
  }
 },
 "nbformat": 4,
 "nbformat_minor": 5
}
