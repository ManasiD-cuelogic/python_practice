{
 "cells": [
  {
   "cell_type": "code",
   "execution_count": 5,
   "id": "official-tiger",
   "metadata": {},
   "outputs": [
    {
     "name": "stdout",
     "output_type": "stream",
     "text": [
      "4\n",
      "4\n",
      "2.0\n",
      "Can't divide by 0!\n"
     ]
    }
   ],
   "source": [
    "def calculator(num1, operator, num2):\n",
    "    if operator == '/' and num2 == 0:\n",
    "        print(\"Can't divide by 0!\")\n",
    "    elif operator == \"+\":\n",
    "        print(num1+num2)\n",
    "    elif(operator == '-'):\n",
    "        print(num1-num2)\n",
    "    elif(operator == '*'):\n",
    "        print(num1*num2)\n",
    "    elif(operator == '/'):\n",
    "        print(num1 / num2)\n",
    "        \n",
    "calculator(2, \"+\", 2)\n",
    "calculator(2, \"*\", 2)\n",
    "calculator(4, \"/\", 2)\n",
    "calculator(4, \"/\", 0)"
   ]
  },
  {
   "cell_type": "code",
   "execution_count": null,
   "id": "narrative-hindu",
   "metadata": {},
   "outputs": [],
   "source": []
  }
 ],
 "metadata": {
  "kernelspec": {
   "display_name": "Python 3",
   "language": "python",
   "name": "python3"
  },
  "language_info": {
   "codemirror_mode": {
    "name": "ipython",
    "version": 3
   },
   "file_extension": ".py",
   "mimetype": "text/x-python",
   "name": "python",
   "nbconvert_exporter": "python",
   "pygments_lexer": "ipython3",
   "version": "3.6.9"
  }
 },
 "nbformat": 4,
 "nbformat_minor": 5
}
