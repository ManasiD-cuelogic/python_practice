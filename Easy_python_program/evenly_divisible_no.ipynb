{
 "cells": [
  {
   "cell_type": "markdown",
   "id": "needed-compound",
   "metadata": {},
   "source": [
    "# Sum of Evenly Divisible Numbers from a Range\n"
   ]
  },
  {
   "cell_type": "code",
   "execution_count": 5,
   "id": "fatal-underground",
   "metadata": {},
   "outputs": [
    {
     "name": "stdout",
     "output_type": "stream",
     "text": [
      "0\n",
      "20\n",
      "18\n"
     ]
    }
   ],
   "source": [
    "def evenly_divisible(a, b, c):\n",
    "    sum1 = 0\n",
    "    for i in range(a,b):\n",
    "        if i % c == 0:\n",
    "            sum1+=i\n",
    "    print(sum1)\n",
    "    \n",
    "evenly_divisible(1, 10, 20)\n",
    "evenly_divisible(1, 10, 2)\n",
    "evenly_divisible(1, 10, 3) "
   ]
  },
  {
   "cell_type": "code",
   "execution_count": null,
   "id": "functioning-sentence",
   "metadata": {},
   "outputs": [],
   "source": []
  }
 ],
 "metadata": {
  "kernelspec": {
   "display_name": "Python 3",
   "language": "python",
   "name": "python3"
  },
  "language_info": {
   "codemirror_mode": {
    "name": "ipython",
    "version": 3
   },
   "file_extension": ".py",
   "mimetype": "text/x-python",
   "name": "python",
   "nbconvert_exporter": "python",
   "pygments_lexer": "ipython3",
   "version": "3.6.9"
  }
 },
 "nbformat": 4,
 "nbformat_minor": 5
}
