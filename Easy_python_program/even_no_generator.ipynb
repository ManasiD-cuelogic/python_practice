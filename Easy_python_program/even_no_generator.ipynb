{
 "cells": [
  {
   "cell_type": "markdown",
   "id": "fixed-wireless",
   "metadata": {},
   "source": [
    "# Even Number Generator\n"
   ]
  },
  {
   "cell_type": "markdown",
   "id": "portuguese-accident",
   "metadata": {},
   "source": [
    "Using list comprehensions, create a function that finds all even numbers from 1 to the given number."
   ]
  },
  {
   "cell_type": "code",
   "execution_count": 4,
   "id": "animal-clear",
   "metadata": {},
   "outputs": [
    {
     "name": "stdout",
     "output_type": "stream",
     "text": [
      "[0, 2, 4, 6, 8]\n",
      "[0, 2, 4]\n",
      "[0, 2, 4, 6, 8]\n"
     ]
    }
   ],
   "source": [
    "def find_even_nums(num):\n",
    "    even_list = [val for val in range(num+1) if val % 2 == 0]\n",
    "    print(even_list)\n",
    "    \n",
    "    \n",
    "find_even_nums(8)\n",
    "find_even_nums(4)\n",
    "find_even_nums(9)"
   ]
  },
  {
   "cell_type": "code",
   "execution_count": null,
   "id": "upset-liberty",
   "metadata": {},
   "outputs": [],
   "source": []
  }
 ],
 "metadata": {
  "kernelspec": {
   "display_name": "Python 3",
   "language": "python",
   "name": "python3"
  },
  "language_info": {
   "codemirror_mode": {
    "name": "ipython",
    "version": 3
   },
   "file_extension": ".py",
   "mimetype": "text/x-python",
   "name": "python",
   "nbconvert_exporter": "python",
   "pygments_lexer": "ipython3",
   "version": "3.6.9"
  }
 },
 "nbformat": 4,
 "nbformat_minor": 5
}
