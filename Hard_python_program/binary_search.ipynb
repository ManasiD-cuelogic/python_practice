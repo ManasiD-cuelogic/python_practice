{
 "cells": [
  {
   "cell_type": "markdown",
   "id": "medium-spare",
   "metadata": {},
   "source": [
    "# Algorithms: Binary Search\n"
   ]
  },
  {
   "cell_type": "raw",
   "id": "proper-offer",
   "metadata": {},
   "source": [
    "Create a function that finds a target number in a list of prime numbers. Implement a binary search algorithm in your function. The target number will be from 2 through 97. If the target is prime then return \"yes\" else return \"no\".\n",
    "\n"
   ]
  },
  {
   "cell_type": "code",
   "execution_count": 1,
   "id": "silver-statement",
   "metadata": {},
   "outputs": [
    {
     "name": "stdout",
     "output_type": "stream",
     "text": [
      "yes\n"
     ]
    }
   ],
   "source": [
    "def check_is_prime(num):\n",
    "    if num <= 1:\n",
    "        return 0\n",
    "    if num <= 3:\n",
    "        return 1\n",
    "    if num % 2 == 0 or num % 3 == 0:\n",
    "        return 0\n",
    "    i = 5\n",
    "    while(i * i <= num) : \n",
    "        if (num % i == 0 or num % (i + 2) == 0) : \n",
    "            return 0\n",
    "        i = i + 6\n",
    " \n",
    "    return 1\n",
    " \n",
    "def is_prime(primes, num, left, right):\n",
    "    if check_is_prime(num):\n",
    "        while left <= right:\n",
    "            mid = left + (right-1)\n",
    "            if primes[mid] == num:\n",
    "                return 1\n",
    "            elif primes[mid] < num:\n",
    "                left = mid + 1\n",
    "            else:\n",
    "                right = mid -1\n",
    "        return 0\n",
    "    \n",
    "if __name__ == \"__main__\":\n",
    "    primes = [2, 3, 5, 7, 11, 13, 17, 19, 23, 29, 31, 37, 41, 43, 47, 53, 59, 61, 67, 71, 73, 79, 83, 89, 97]\n",
    "    if is_prime(primes, 3,0,len(primes)-1):\n",
    "        print(\"yes\")\n",
    "    else:\n",
    "        print(\"no\")"
   ]
  },
  {
   "cell_type": "code",
   "execution_count": null,
   "id": "naughty-bonus",
   "metadata": {},
   "outputs": [],
   "source": []
  }
 ],
 "metadata": {
  "kernelspec": {
   "display_name": "Python 3",
   "language": "python",
   "name": "python3"
  },
  "language_info": {
   "codemirror_mode": {
    "name": "ipython",
    "version": 3
   },
   "file_extension": ".py",
   "mimetype": "text/x-python",
   "name": "python",
   "nbconvert_exporter": "python",
   "pygments_lexer": "ipython3",
   "version": "3.6.9"
  }
 },
 "nbformat": 4,
 "nbformat_minor": 5
}
