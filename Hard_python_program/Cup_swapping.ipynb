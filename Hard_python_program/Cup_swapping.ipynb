{
 "cells": [
  {
   "cell_type": "markdown",
   "id": "interpreted-incentive",
   "metadata": {},
   "source": [
    "# Cup Swapping\n"
   ]
  },
  {
   "cell_type": "markdown",
   "id": "wicked-homeless",
   "metadata": {},
   "source": [
    "There are three cups on a table, at positions A, B, and C. At the start, there is a ball hidden under the cup at position B.\n",
    "However, I perform several swaps on the cups, which is notated as two letters. For example, if I swap the cups at positions A and B, I could notate this as AB or BA.\n",
    "\n",
    "Create a function that returns the letter position that the ball is at, once I finish swapping the cups. The swaps will be given to you as a list.\n",
    "\n",
    "\n"
   ]
  },
  {
   "cell_type": "code",
   "execution_count": 13,
   "id": "fitting-optimum",
   "metadata": {},
   "outputs": [
    {
     "name": "stdout",
     "output_type": "stream",
     "text": [
      "C\n",
      "B\n",
      "A\n"
     ]
    }
   ],
   "source": [
    "def cup_swapping(swaps):\n",
    "    flag1 = False\n",
    "    flag2 = False\n",
    "    ball_pos = 'B'\n",
    "    for i in swaps:\n",
    "        if i[0] == ball_pos:\n",
    "            ball_pos = i[-1]\n",
    "        elif i[-1] == ball_pos:\n",
    "            ball_pos = i[0]\n",
    "        \n",
    "    print(ball_pos)\n",
    "    \n",
    "cup_swapping([\"AB\", \"CA\"])\n",
    "\n",
    "cup_swapping([\"AC\", \"CA\", \"CA\", \"AC\"])\n",
    "\n",
    "cup_swapping([\"BA\", \"AC\", \"CA\", \"BC\"]) "
   ]
  },
  {
   "cell_type": "code",
   "execution_count": null,
   "id": "dried-handle",
   "metadata": {},
   "outputs": [],
   "source": []
  }
 ],
 "metadata": {
  "kernelspec": {
   "display_name": "Python 3",
   "language": "python",
   "name": "python3"
  },
  "language_info": {
   "codemirror_mode": {
    "name": "ipython",
    "version": 3
   },
   "file_extension": ".py",
   "mimetype": "text/x-python",
   "name": "python",
   "nbconvert_exporter": "python",
   "pygments_lexer": "ipython3",
   "version": "3.6.9"
  }
 },
 "nbformat": 4,
 "nbformat_minor": 5
}
