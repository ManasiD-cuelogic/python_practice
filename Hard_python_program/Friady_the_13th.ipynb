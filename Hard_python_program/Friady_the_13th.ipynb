{
 "cells": [
  {
   "cell_type": "markdown",
   "id": "nuclear-decision",
   "metadata": {},
   "source": [
    "# Friday the 13th\n"
   ]
  },
  {
   "cell_type": "markdown",
   "id": "artistic-architect",
   "metadata": {},
   "source": [
    "Given the month and year as numbers, return whether that month contains a Friday 13th.\n",
    "\n"
   ]
  },
  {
   "cell_type": "code",
   "execution_count": 9,
   "id": "numerical-particle",
   "metadata": {},
   "outputs": [
    {
     "name": "stdout",
     "output_type": "stream",
     "text": [
      "True\n",
      "True\n",
      "False\n"
     ]
    }
   ],
   "source": [
    "import datetime\n",
    "from datetime import datetime\n",
    "import calendar\n",
    "\n",
    "def has_friday_13(month, year):\n",
    "    date = f'{month} 13 {year}'.format()\n",
    "    strtime = datetime.strptime(date, '%m %d %Y').weekday()\n",
    "    #print(strtime)\n",
    "    #print(calendar.day_name[strtime])\n",
    "    if(calendar.day_name[strtime] == \"Friday\"):\n",
    "        print(\"True\")\n",
    "    else:\n",
    "        print(\"False\")\n",
    "           \n",
    "has_friday_13(3, 2020)\n",
    "\n",
    "has_friday_13(10, 2017)\n",
    "\n",
    "has_friday_13(1, 1985) "
   ]
  },
  {
   "cell_type": "code",
   "execution_count": null,
   "id": "thick-attachment",
   "metadata": {},
   "outputs": [],
   "source": []
  }
 ],
 "metadata": {
  "kernelspec": {
   "display_name": "Python 3",
   "language": "python",
   "name": "python3"
  },
  "language_info": {
   "codemirror_mode": {
    "name": "ipython",
    "version": 3
   },
   "file_extension": ".py",
   "mimetype": "text/x-python",
   "name": "python",
   "nbconvert_exporter": "python",
   "pygments_lexer": "ipython3",
   "version": "3.6.9"
  }
 },
 "nbformat": 4,
 "nbformat_minor": 5
}
