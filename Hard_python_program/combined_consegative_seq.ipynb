{
 "cells": [
  {
   "cell_type": "markdown",
   "id": "preceding-officer",
   "metadata": {},
   "source": [
    "# Combined Consecutive Sequence\n"
   ]
  },
  {
   "cell_type": "markdown",
   "id": "other-violation",
   "metadata": {},
   "source": [
    "Write a function that returns True if two arrays, when combined, form a consecutive sequence. A consecutive sequence is a sequence without any gaps in the integers, e.g. 1, 2, 3, 4, 5 is a consecutive sequence, but 1, 2, 4, 5 is not.\n",
    "\n"
   ]
  },
  {
   "cell_type": "code",
   "execution_count": 7,
   "id": "objective-tokyo",
   "metadata": {},
   "outputs": [
    {
     "name": "stdout",
     "output_type": "stream",
     "text": [
      "true\n",
      "false\n",
      "false\n",
      "true\n"
     ]
    }
   ],
   "source": [
    "def consecutiveCombo(a1, a2):\n",
    "    lst = a1 + a2\n",
    "    if(sorted(lst) == list(range(min(lst), max(lst)+1))):\n",
    "        print(\"true\")\n",
    "    else:\n",
    "        print(\"false\")\n",
    "        \n",
    "        \n",
    "consecutiveCombo([7, 4, 5, 1], [2, 3, 6])\n",
    "\n",
    "consecutiveCombo([1, 4, 6, 5], [2, 7, 8, 9])\n",
    "\n",
    "consecutiveCombo([1, 4, 5, 6], [2, 3, 7, 8, 10]) \n",
    "\n",
    "consecutiveCombo([44, 46], [45]) "
   ]
  },
  {
   "cell_type": "code",
   "execution_count": null,
   "id": "personal-nitrogen",
   "metadata": {},
   "outputs": [],
   "source": []
  }
 ],
 "metadata": {
  "kernelspec": {
   "display_name": "Python 3",
   "language": "python",
   "name": "python3"
  },
  "language_info": {
   "codemirror_mode": {
    "name": "ipython",
    "version": 3
   },
   "file_extension": ".py",
   "mimetype": "text/x-python",
   "name": "python",
   "nbconvert_exporter": "python",
   "pygments_lexer": "ipython3",
   "version": "3.6.9"
  }
 },
 "nbformat": 4,
 "nbformat_minor": 5
}
