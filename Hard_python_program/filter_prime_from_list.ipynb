{
 "cells": [
  {
   "cell_type": "markdown",
   "id": "under-monitoring",
   "metadata": {},
   "source": [
    "# Filter Primes from a List\n"
   ]
  },
  {
   "cell_type": "raw",
   "id": "lightweight-hollow",
   "metadata": {},
   "source": [
    "Create a function that takes a list and returns a new list containing only prime numbers.\n",
    "\n"
   ]
  },
  {
   "cell_type": "code",
   "execution_count": 1,
   "id": "eight-heather",
   "metadata": {},
   "outputs": [
    {
     "name": "stdout",
     "output_type": "stream",
     "text": [
      "[7, 3, 11]\n",
      "[10007, 1009]\n",
      "[1009, 3, 61, 1087, 1091, 1093, 1097]\n"
     ]
    }
   ],
   "source": [
    "def is_prime(num):\n",
    "    if(num <= 1):\n",
    "        return False\n",
    "    if(num <=3):\n",
    "        return True\n",
    "    if(num % 2 == 0 or num % 3 == 0):\n",
    "        return False\n",
    "    i = 5\n",
    "    while i*i <= num:\n",
    "        if(num % i == 0 or num % (i+2) == 0):\n",
    "            return False\n",
    "        i += 6\n",
    "    return True\n",
    "def filter_primes(num):\n",
    "    even = []\n",
    "    for i in num:\n",
    "        if(is_prime(i)== True):\n",
    "            even.append(i)\n",
    "            \n",
    "    print(even)\n",
    "    \n",
    "filter_primes([7, 9, 3, 9, 10, 11, 27])\n",
    "\n",
    "filter_primes([10007, 1009, 1007, 27, 147, 77, 1001, 70]) \n",
    "\n",
    "filter_primes([1009, 10, 10, 10, 3, 33, 9, 4, 1, 61, 63, 69, 1087, 1091, 1093, 1097])"
   ]
  },
  {
   "cell_type": "code",
   "execution_count": null,
   "id": "essential-legislature",
   "metadata": {},
   "outputs": [],
   "source": []
  }
 ],
 "metadata": {
  "kernelspec": {
   "display_name": "Python 3",
   "language": "python",
   "name": "python3"
  },
  "language_info": {
   "codemirror_mode": {
    "name": "ipython",
    "version": 3
   },
   "file_extension": ".py",
   "mimetype": "text/x-python",
   "name": "python",
   "nbconvert_exporter": "python",
   "pygments_lexer": "ipython3",
   "version": "3.6.9"
  }
 },
 "nbformat": 4,
 "nbformat_minor": 5
}
