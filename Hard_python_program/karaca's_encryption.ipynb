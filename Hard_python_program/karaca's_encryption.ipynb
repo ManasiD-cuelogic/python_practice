{
 "cells": [
  {
   "cell_type": "markdown",
   "id": "genetic-organ",
   "metadata": {},
   "source": [
    "# The Karaca's Encryption Algorithm\n"
   ]
  },
  {
   "cell_type": "raw",
   "id": "referenced-hazard",
   "metadata": {},
   "source": [
    "Make a function that encrypts a given input with these steps:\n",
    "\n",
    "Input: \"apple\"\n",
    "\n",
    "Step 1: Reverse the input: \"elppa\"\n",
    "\n",
    "Step 2: Replace all vowels using the following chart:\n",
    "\n",
    "a => 0\n",
    "e => 1\n",
    "i => 2\n",
    "o => 2\n",
    "u => 3\n",
    "\n",
    "# \"1lpp0\"\n",
    "Step 3: Add \"aca\" to the end of the word: \"1lpp0aca\"\n",
    "        Output: \"1lpp0aca\""
   ]
  },
  {
   "cell_type": "code",
   "execution_count": 1,
   "id": "familiar-chamber",
   "metadata": {},
   "outputs": [
    {
     "name": "stdout",
     "output_type": "stream",
     "text": [
      "encyption of banana -> 0n0n0baca\n",
      "encyption of karaca -> 0c0r0kaca\n",
      "encyption of burak -> k0r3baca\n",
      "encyption of alpaca -> 0c0pl0aca\n"
     ]
    }
   ],
   "source": [
    "def encrypt(word):\n",
    "    suffix = 'aca'\n",
    "    w = word.translate({ord('a'):'0', ord('e'):'1', ord('i'):'2', ord('o'): '2', ord('u'):'3'})\n",
    "    w = w[::-1]\n",
    "    w += suffix\n",
    "    print(f\"encyption of {word} -> {w}\")\n",
    "    \n",
    "encrypt(\"banana\")\n",
    "\n",
    "encrypt(\"karaca\")\n",
    "\n",
    "encrypt(\"burak\") \n",
    "\n",
    "encrypt(\"alpaca\") "
   ]
  },
  {
   "cell_type": "code",
   "execution_count": null,
   "id": "regulation-blues",
   "metadata": {},
   "outputs": [],
   "source": []
  }
 ],
 "metadata": {
  "kernelspec": {
   "display_name": "Python 3",
   "language": "python",
   "name": "python3"
  },
  "language_info": {
   "codemirror_mode": {
    "name": "ipython",
    "version": 3
   },
   "file_extension": ".py",
   "mimetype": "text/x-python",
   "name": "python",
   "nbconvert_exporter": "python",
   "pygments_lexer": "ipython3",
   "version": "3.6.9"
  }
 },
 "nbformat": 4,
 "nbformat_minor": 5
}
