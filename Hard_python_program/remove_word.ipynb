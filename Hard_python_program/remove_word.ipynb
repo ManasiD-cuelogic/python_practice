{
 "cells": [
  {
   "cell_type": "markdown",
   "id": "narrative-vampire",
   "metadata": {},
   "source": [
    "# Remove The Word!\n"
   ]
  },
  {
   "cell_type": "markdown",
   "id": "static-jungle",
   "metadata": {},
   "source": [
    "Create a function that takes a list and string. The function should remove the letters in the string from the list, and return the list."
   ]
  },
  {
   "cell_type": "code",
   "execution_count": 9,
   "id": "patent-rainbow",
   "metadata": {},
   "outputs": [
    {
     "name": "stdout",
     "output_type": "stream",
     "text": [
      "['w']\n",
      "['b', 'g', 'w']\n",
      "[]\n"
     ]
    }
   ],
   "source": [
    "def remove_letters(letters, word):\n",
    "    for i in word:\n",
    "        if i in letters:\n",
    "            letters.remove(i)\n",
    "            \n",
    "    print(letters)\n",
    "    \n",
    "remove_letters([\"s\", \"t\", \"r\", \"i\", \"n\", \"g\", \"w\"], \"string\") \n",
    "\n",
    "remove_letters([\"b\", \"b\", \"l\", \"l\", \"g\", \"n\", \"o\", \"a\", \"w\"], \"balloon\") \n",
    "\n",
    "remove_letters([\"d\", \"b\", \"t\", \"e\", \"a\", \"i\"], \"edabit\") "
   ]
  },
  {
   "cell_type": "code",
   "execution_count": null,
   "id": "instructional-grounds",
   "metadata": {},
   "outputs": [],
   "source": []
  }
 ],
 "metadata": {
  "kernelspec": {
   "display_name": "Python 3",
   "language": "python",
   "name": "python3"
  },
  "language_info": {
   "codemirror_mode": {
    "name": "ipython",
    "version": 3
   },
   "file_extension": ".py",
   "mimetype": "text/x-python",
   "name": "python",
   "nbconvert_exporter": "python",
   "pygments_lexer": "ipython3",
   "version": "3.6.9"
  }
 },
 "nbformat": 4,
 "nbformat_minor": 5
}
