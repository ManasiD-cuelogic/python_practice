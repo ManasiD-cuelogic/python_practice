{
 "cells": [
  {
   "cell_type": "markdown",
   "id": "differential-tribute",
   "metadata": {},
   "source": [
    "# Fibonacci String\n"
   ]
  },
  {
   "cell_type": "markdown",
   "id": "hawaiian-noise",
   "metadata": {},
   "source": [
    "A Fibonacci string is a precedence of the Fibonacci series. It works with any two characters of the English alphabet (as opposed to the numbers 0 and 1 in the Fibonacci series) as the initial items and concatenates them together as it progresses in a similar fashion as the Fibonacci series.\n",
    "\n"
   ]
  },
  {
   "cell_type": "code",
   "execution_count": 8,
   "id": "improved-carbon",
   "metadata": {},
   "outputs": [
    {
     "name": "stdout",
     "output_type": "stream",
     "text": [
      "['j', 'h', 'hj']\n",
      "['e', 'a', 'ae', 'aea', 'aeaae']\n",
      "['n', 'k', 'kn', 'knk', 'knkkn', 'knkknknk']\n"
     ]
    }
   ],
   "source": [
    "def fib_str(n, txt):\n",
    "    ch1 = txt[0]\n",
    "    ch2 = txt[-1]\n",
    "    fibo = []\n",
    "    fibo.append(ch1)\n",
    "    fibo.append(ch2)\n",
    "    while len(fibo)!= n:\n",
    "        #print(\"hii\")\n",
    "        fibo.append(fibo[-1]+fibo[-2])\n",
    "    print(fibo)\n",
    "        \n",
    "fib_str(3, [\"j\", \"h\"]) \n",
    "        \n",
    "fib_str(5, [\"e\", \"a\"])\n",
    "\n",
    "fib_str(6, [\"n\", \"k\"])"
   ]
  },
  {
   "cell_type": "code",
   "execution_count": null,
   "id": "lesbian-tampa",
   "metadata": {},
   "outputs": [],
   "source": []
  }
 ],
 "metadata": {
  "kernelspec": {
   "display_name": "Python 3",
   "language": "python",
   "name": "python3"
  },
  "language_info": {
   "codemirror_mode": {
    "name": "ipython",
    "version": 3
   },
   "file_extension": ".py",
   "mimetype": "text/x-python",
   "name": "python",
   "nbconvert_exporter": "python",
   "pygments_lexer": "ipython3",
   "version": "3.6.9"
  }
 },
 "nbformat": 4,
 "nbformat_minor": 5
}
