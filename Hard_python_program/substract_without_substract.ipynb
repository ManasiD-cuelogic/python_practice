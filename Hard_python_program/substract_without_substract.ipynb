{
 "cells": [
  {
   "cell_type": "markdown",
   "id": "modular-married",
   "metadata": {},
   "source": [
    "# Subtract Without Subtract\n"
   ]
  },
  {
   "cell_type": "raw",
   "id": "russian-secretary",
   "metadata": {},
   "source": [
    "Create a function that subtracts one positive integer from another, without using any arithmetic operators such as -, %, /, +, etc."
   ]
  },
  {
   "cell_type": "code",
   "execution_count": null,
   "id": "coral-population",
   "metadata": {},
   "outputs": [],
   "source": [
    "def my_sub(a, b):\n",
    "    while(b != 0):\n",
    "        borrow = (~a) & b\n",
    "         \n",
    "        a = a ^ b\n",
    "        \n",
    "        b = borrow << 1\n",
    "        \n",
    "    print(a)\n",
    "\n",
    "my_sub(23, 16)"
   ]
  }
 ],
 "metadata": {
  "kernelspec": {
   "display_name": "Python 3",
   "language": "python",
   "name": "python3"
  },
  "language_info": {
   "codemirror_mode": {
    "name": "ipython",
    "version": 3
   },
   "file_extension": ".py",
   "mimetype": "text/x-python",
   "name": "python",
   "nbconvert_exporter": "python",
   "pygments_lexer": "ipython3",
   "version": "3.6.9"
  }
 },
 "nbformat": 4,
 "nbformat_minor": 5
}
