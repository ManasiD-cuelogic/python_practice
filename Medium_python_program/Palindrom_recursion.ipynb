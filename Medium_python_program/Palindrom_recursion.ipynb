{
 "cells": [
  {
   "cell_type": "markdown",
   "id": "gross-conservation",
   "metadata": {},
   "source": [
    "# Recursion: String Palindromes\n"
   ]
  },
  {
   "cell_type": "raw",
   "id": "danish-trash",
   "metadata": {},
   "source": [
    "Write a function that recursively determines if a string is a palindrome.\n",
    "\n"
   ]
  },
  {
   "cell_type": "code",
   "execution_count": 1,
   "id": "experimental-jonathan",
   "metadata": {},
   "outputs": [
    {
     "name": "stdout",
     "output_type": "stream",
     "text": [
      "True\n"
     ]
    }
   ],
   "source": [
    "def is_pal_recursion(str, start, end):\n",
    "    if(start == end):\n",
    "        return True\n",
    "    \n",
    "    if(str[start] != str[end]):\n",
    "        return False\n",
    "    \n",
    "    if(start < end + 1):\n",
    "        return is_pal_recursion(str, start+1, end-1)\n",
    "    \n",
    "    return True\n",
    "\n",
    "def is_palindrome(word):\n",
    "    n = len(word)\n",
    "    if n == 0:\n",
    "        return True\n",
    "    \n",
    "    return is_pal_recursion(word, 0, n-1) \n",
    "\n",
    "print(is_palindrome(\"abcba\"))"
   ]
  },
  {
   "cell_type": "code",
   "execution_count": null,
   "id": "polish-discretion",
   "metadata": {},
   "outputs": [],
   "source": []
  }
 ],
 "metadata": {
  "kernelspec": {
   "display_name": "Python 3",
   "language": "python",
   "name": "python3"
  },
  "language_info": {
   "codemirror_mode": {
    "name": "ipython",
    "version": 3
   },
   "file_extension": ".py",
   "mimetype": "text/x-python",
   "name": "python",
   "nbconvert_exporter": "python",
   "pygments_lexer": "ipython3",
   "version": "3.6.9"
  }
 },
 "nbformat": 4,
 "nbformat_minor": 5
}
