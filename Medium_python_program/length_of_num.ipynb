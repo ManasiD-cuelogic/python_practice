{
 "cells": [
  {
   "cell_type": "markdown",
   "id": "subsequent-outdoors",
   "metadata": {},
   "source": [
    "# Length of Number\n"
   ]
  },
  {
   "cell_type": "markdown",
   "id": "miniature-observer",
   "metadata": {},
   "source": [
    "Create a function that takes a number num and returns its length.\n",
    "\n"
   ]
  },
  {
   "cell_type": "code",
   "execution_count": 8,
   "id": "practical-comedy",
   "metadata": {},
   "outputs": [
    {
     "name": "stdout",
     "output_type": "stream",
     "text": [
      "Enter number: 234\n",
      "3\n"
     ]
    }
   ],
   "source": [
    "def number_length(num):\n",
    "    count = 0\n",
    "    while num != 0:\n",
    "        num = num // 10\n",
    "        count+=1\n",
    "        \n",
    "    print(count)\n",
    "    \n",
    "    \n",
    "num = int(input(\"Enter number: \"))\n",
    "number_length(num)"
   ]
  },
  {
   "cell_type": "code",
   "execution_count": null,
   "id": "equipped-showcase",
   "metadata": {},
   "outputs": [],
   "source": []
  }
 ],
 "metadata": {
  "kernelspec": {
   "display_name": "Python 3",
   "language": "python",
   "name": "python3"
  },
  "language_info": {
   "codemirror_mode": {
    "name": "ipython",
    "version": 3
   },
   "file_extension": ".py",
   "mimetype": "text/x-python",
   "name": "python",
   "nbconvert_exporter": "python",
   "pygments_lexer": "ipython3",
   "version": "3.6.9"
  }
 },
 "nbformat": 4,
 "nbformat_minor": 5
}
