{
 "cells": [
  {
   "cell_type": "markdown",
   "id": "capable-machinery",
   "metadata": {},
   "source": [
    "# FizzBuzz Interview Question\n"
   ]
  },
  {
   "cell_type": "markdown",
   "id": "intensive-liechtenstein",
   "metadata": {},
   "source": [
    "Create a function that takes a number as an argument and returns \"Fizz\", \"Buzz\" or \"FizzBuzz\".\n",
    "\n",
    "If the number is a multiple of 3 the output should be \"Fizz\".\n",
    "If the number given is a multiple of 5, the output should be \"Buzz\".\n",
    "If the number given is a multiple of both 3 and 5, the output should be \"FizzBuzz\".\n",
    "If the number is not a multiple of either 3 or 5, the number should be output on its own as shown in the examples below.\n",
    "The output should always be a string even if it is not a multiple of 3 or 5."
   ]
  },
  {
   "cell_type": "code",
   "execution_count": 4,
   "id": "bibliographic-basis",
   "metadata": {},
   "outputs": [
    {
     "name": "stdout",
     "output_type": "stream",
     "text": [
      "Enter Number: 45\n",
      "FizzBuzz\n"
     ]
    }
   ],
   "source": [
    "def fizz_buzz(num):\n",
    "    if num % 3 == 0 and num % 5 == 0:\n",
    "        print(\"FizzBuzz\")\n",
    "    elif num % 3 == 0:\n",
    "        print(\"Fizz\")\n",
    "    elif num % 5 == 0:\n",
    "        print(\"Buzz\")\n",
    "        \n",
    "        \n",
    "num = int(input(\"Enter Number: \"))\n",
    "fizz_buzz(num)"
   ]
  },
  {
   "cell_type": "code",
   "execution_count": null,
   "id": "musical-arena",
   "metadata": {},
   "outputs": [],
   "source": []
  }
 ],
 "metadata": {
  "kernelspec": {
   "display_name": "Python 3",
   "language": "python",
   "name": "python3"
  },
  "language_info": {
   "codemirror_mode": {
    "name": "ipython",
    "version": 3
   },
   "file_extension": ".py",
   "mimetype": "text/x-python",
   "name": "python",
   "nbconvert_exporter": "python",
   "pygments_lexer": "ipython3",
   "version": "3.6.9"
  }
 },
 "nbformat": 4,
 "nbformat_minor": 5
}
