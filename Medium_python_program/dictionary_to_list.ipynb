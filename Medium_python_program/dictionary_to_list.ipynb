{
 "cells": [
  {
   "cell_type": "markdown",
   "id": "flying-johnston",
   "metadata": {},
   "source": [
    "# Converting Dictionaries to Lists\n"
   ]
  },
  {
   "cell_type": "raw",
   "id": "vulnerable-leone",
   "metadata": {},
   "source": [
    "Write a function that converts a dictionary into a list, where each element represents a key-value pair in the form of a list. Sort the list alphabetically by key.\n",
    "\n"
   ]
  },
  {
   "cell_type": "code",
   "execution_count": 3,
   "id": "going-sydney",
   "metadata": {},
   "outputs": [
    {
     "name": "stdout",
     "output_type": "stream",
     "text": [
      "[('a', 1), ('b', 2)]\n",
      "<class 'list'>\n"
     ]
    }
   ],
   "source": [
    "#using list,items fucntion\n",
    "def to_list(dct):\n",
    "    lst = list(dct.items())\n",
    "    print(lst)\n",
    "    #print(type(lst))\n",
    "    \n",
    "to_list({ \"a\": 1, \"b\": 2 })"
   ]
  },
  {
   "cell_type": "code",
   "execution_count": 4,
   "id": "considerable-function",
   "metadata": {},
   "outputs": [
    {
     "name": "stdout",
     "output_type": "stream",
     "text": [
      "[('shrimp', 15), ('tots', 12)]\n"
     ]
    }
   ],
   "source": [
    "#using list comprehension\n",
    "def to_list(dct):\n",
    "    lst = [(key,value) for key, value in dct.items()]\n",
    "    print(lst)\n",
    "    \n",
    "to_list({ \"shrimp\": 15, \"tots\": 12 })\n",
    "to_list({})"
   ]
  },
  {
   "cell_type": "code",
   "execution_count": null,
   "id": "applicable-praise",
   "metadata": {},
   "outputs": [],
   "source": []
  }
 ],
 "metadata": {
  "kernelspec": {
   "display_name": "Python 3",
   "language": "python",
   "name": "python3"
  },
  "language_info": {
   "codemirror_mode": {
    "name": "ipython",
    "version": 3
   },
   "file_extension": ".py",
   "mimetype": "text/x-python",
   "name": "python",
   "nbconvert_exporter": "python",
   "pygments_lexer": "ipython3",
   "version": "3.6.9"
  }
 },
 "nbformat": 4,
 "nbformat_minor": 5
}
