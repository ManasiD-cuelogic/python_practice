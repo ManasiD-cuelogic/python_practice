{
 "cells": [
  {
   "cell_type": "markdown",
   "id": "arbitrary-engineering",
   "metadata": {},
   "source": [
    "# Invert Keys and Values\n"
   ]
  },
  {
   "cell_type": "raw",
   "id": "thirty-grain",
   "metadata": {},
   "source": [
    "Write a function that inverts the keys and values of a dictionary.\n",
    "\n"
   ]
  },
  {
   "cell_type": "code",
   "execution_count": 1,
   "id": "satisfactory-italian",
   "metadata": {},
   "outputs": [
    {
     "name": "stdout",
     "output_type": "stream",
     "text": [
      "{'q': 'z', 'f': 'w'}\n"
     ]
    }
   ],
   "source": [
    "def invert(dct):\n",
    "    #inverse mapping using dictionary comprehension\n",
    "    dct = {value: key for key, value in dct.items()}\n",
    "    print(dct)\n",
    "    \n",
    "    \n",
    "invert({ \"z\": \"q\", \"w\": \"f\" })"
   ]
  },
  {
   "cell_type": "code",
   "execution_count": 3,
   "id": "exterior-battery",
   "metadata": {},
   "outputs": [
    {
     "name": "stdout",
     "output_type": "stream",
     "text": [
      "{'q': 'z', 'f': 'w'}\n"
     ]
    }
   ],
   "source": [
    "def invert(dct):\n",
    "    #using zip and dict fucntion\n",
    "    dct_inv = dict(zip(dct.values(), dct.keys()))\n",
    "    print((dct_inv))\n",
    "    \n",
    "invert({ \"z\": \"q\", \"w\": \"f\" })   "
   ]
  },
  {
   "cell_type": "code",
   "execution_count": null,
   "id": "statewide-replacement",
   "metadata": {},
   "outputs": [],
   "source": []
  }
 ],
 "metadata": {
  "kernelspec": {
   "display_name": "Python 3",
   "language": "python",
   "name": "python3"
  },
  "language_info": {
   "codemirror_mode": {
    "name": "ipython",
    "version": 3
   },
   "file_extension": ".py",
   "mimetype": "text/x-python",
   "name": "python",
   "nbconvert_exporter": "python",
   "pygments_lexer": "ipython3",
   "version": "3.6.9"
  }
 },
 "nbformat": 4,
 "nbformat_minor": 5
}
