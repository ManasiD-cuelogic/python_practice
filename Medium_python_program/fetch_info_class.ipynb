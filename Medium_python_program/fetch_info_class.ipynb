{
 "cells": [
  {
   "cell_type": "markdown",
   "id": "studied-envelope",
   "metadata": {},
   "source": [
    "# Classes For Fetching Information on a Sports Player\n"
   ]
  },
  {
   "cell_type": "raw",
   "id": "steady-nashville",
   "metadata": {},
   "source": [
    "Create a class that takes the following four arguments for a particular football player:\n",
    "\n",
    "name\n",
    "age\n",
    "height\n",
    "weight\n",
    "Also, create three functions for the class that returns the following strings:\n",
    "\n",
    "get_age() returns \"name is age age\"\n",
    "get_height() returns \"name is heightcm\"\n",
    "get_weight() returns \"name weighs weightkg\"\n"
   ]
  },
  {
   "cell_type": "code",
   "execution_count": 2,
   "id": "expanded-denial",
   "metadata": {},
   "outputs": [
    {
     "name": "stdout",
     "output_type": "stream",
     "text": [
      "David Jones age 25 age\n",
      "David Jones height 175cm\n",
      "David Jones weight is 75Kg\n"
     ]
    }
   ],
   "source": [
    "class Player:\n",
    "    \n",
    "    def __init__(self, name, age, height, weight):\n",
    "        self.name = name\n",
    "        self.age = age\n",
    "        self.height = height\n",
    "        self.weight = weight\n",
    "            \n",
    "    def get_age(self):\n",
    "        return f\"{self.name} age {self.age} age\"\n",
    "    \n",
    "    def get_height(self):\n",
    "        return f\"{self.name} height {self.height}cm\"\n",
    "    \n",
    "    def get_weight(self):\n",
    "        return f\"{self.name} weight is {self.weight}Kg\"\n",
    "    \n",
    "    \n",
    "p1 = Player(\"David Jones\", 25, 175, 75)\n",
    "print(p1.get_age())\n",
    "print(p1.get_height())\n",
    "print(p1.get_weight())"
   ]
  },
  {
   "cell_type": "code",
   "execution_count": null,
   "id": "healthy-cache",
   "metadata": {},
   "outputs": [],
   "source": []
  }
 ],
 "metadata": {
  "kernelspec": {
   "display_name": "Python 3",
   "language": "python",
   "name": "python3"
  },
  "language_info": {
   "codemirror_mode": {
    "name": "ipython",
    "version": 3
   },
   "file_extension": ".py",
   "mimetype": "text/x-python",
   "name": "python",
   "nbconvert_exporter": "python",
   "pygments_lexer": "ipython3",
   "version": "3.6.9"
  }
 },
 "nbformat": 4,
 "nbformat_minor": 5
}
