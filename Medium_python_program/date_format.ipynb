{
 "cells": [
  {
   "cell_type": "markdown",
   "id": "micro-parade",
   "metadata": {},
   "source": [
    "\n",
    "# Date Format\n"
   ]
  },
  {
   "cell_type": "markdown",
   "id": "patent-chick",
   "metadata": {},
   "source": [
    "Create a function that converts a date formatted as MM/DD/YYYY to YYYYDDMM.\n",
    "\n"
   ]
  },
  {
   "cell_type": "code",
   "execution_count": 3,
   "id": "presidential-columbia",
   "metadata": {},
   "outputs": [
    {
     "name": "stdout",
     "output_type": "stream",
     "text": [
      "20191211\n"
     ]
    }
   ],
   "source": [
    "def format_date(date):\n",
    "    date = date[::-1]\n",
    "    year = date[:4]\n",
    "    year = year[::-1]\n",
    "    day = date[5:7]\n",
    "    day = day[::-1] \n",
    "    month = date[8:10]\n",
    "    month = month[::-1]\n",
    "    print(year+day+month)\n",
    "    \n",
    "    \n",
    "format_date(\"11/12/2019\")"
   ]
  },
  {
   "cell_type": "code",
   "execution_count": null,
   "id": "traditional-semester",
   "metadata": {},
   "outputs": [],
   "source": []
  }
 ],
 "metadata": {
  "kernelspec": {
   "display_name": "Python 3",
   "language": "python",
   "name": "python3"
  },
  "language_info": {
   "codemirror_mode": {
    "name": "ipython",
    "version": 3
   },
   "file_extension": ".py",
   "mimetype": "text/x-python",
   "name": "python",
   "nbconvert_exporter": "python",
   "pygments_lexer": "ipython3",
   "version": "3.6.9"
  }
 },
 "nbformat": 4,
 "nbformat_minor": 5
}
