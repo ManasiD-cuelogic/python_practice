{
 "cells": [
  {
   "cell_type": "markdown",
   "id": "sexual-omega",
   "metadata": {},
   "source": [
    "# Club Entry\n"
   ]
  },
  {
   "cell_type": "markdown",
   "id": "difficult-offset",
   "metadata": {},
   "source": [
    "A night club will give you a word. For entrance, you need to provide the right number according to the provided word.\n",
    "\n",
    "Every given word will have a doubled letter, like \"dd\" in addiction. To answer the right number you need to find the doubled letter's position in the alphabets and multiply this number with 4.\n",
    "\n",
    "Create a function that takes the argument of word and returns the right number.\n",
    "\n",
    "\n"
   ]
  },
  {
   "cell_type": "code",
   "execution_count": 32,
   "id": "gorgeous-medicine",
   "metadata": {},
   "outputs": [
    {
     "name": "stdout",
     "output_type": "stream",
     "text": [
      "[1, 2, 2, 1, 1]\n",
      "p\n",
      "64\n",
      "[1, 1, 2, 2]\n",
      "l\n",
      "48\n"
     ]
    }
   ],
   "source": [
    "def club_entry(word):\n",
    "    lst = []\n",
    "    for ch in word:\n",
    "        lst.append(word.count(ch))\n",
    "        \n",
    "    print(lst)\n",
    "    max_no = max(lst)\n",
    "    pos = lst.index(max_no)\n",
    "    ch = word[pos]\n",
    "    print(ch)\n",
    "    alph_no = int(ord(ch)-96)\n",
    "    print(alph_no * 4)\n",
    "    \n",
    "        \n",
    "        \n",
    "club_entry(\"apple\")\n",
    "club_entry(\"hill\")\n",
    "        "
   ]
  },
  {
   "cell_type": "code",
   "execution_count": null,
   "id": "palestinian-contamination",
   "metadata": {},
   "outputs": [],
   "source": []
  },
  {
   "cell_type": "code",
   "execution_count": null,
   "id": "regional-secondary",
   "metadata": {},
   "outputs": [],
   "source": []
  }
 ],
 "metadata": {
  "kernelspec": {
   "display_name": "Python 3",
   "language": "python",
   "name": "python3"
  },
  "language_info": {
   "codemirror_mode": {
    "name": "ipython",
    "version": 3
   },
   "file_extension": ".py",
   "mimetype": "text/x-python",
   "name": "python",
   "nbconvert_exporter": "python",
   "pygments_lexer": "ipython3",
   "version": "3.6.9"
  }
 },
 "nbformat": 4,
 "nbformat_minor": 5
}
