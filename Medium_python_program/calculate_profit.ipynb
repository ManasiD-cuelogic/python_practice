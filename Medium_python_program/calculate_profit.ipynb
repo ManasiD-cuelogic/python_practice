{
 "cells": [
  {
   "cell_type": "markdown",
   "id": "framed-european",
   "metadata": {},
   "source": [
    "# Calculate the Profit\n"
   ]
  },
  {
   "cell_type": "markdown",
   "id": "significant-family",
   "metadata": {},
   "source": [
    "You work for a manufacturer, and have been asked to calculate the total profit made on the sales of a product. You are given a dictionary containing the cost price per unit (in dollars), sell price per unit (in dollars), and the starting inventory. Return the total profit made, rounded to the nearest dollar."
   ]
  },
  {
   "cell_type": "code",
   "execution_count": 1,
   "id": "activated-customs",
   "metadata": {},
   "outputs": [
    {
     "name": "stdout",
     "output_type": "stream",
     "text": [
      "14796.0\n"
     ]
    }
   ],
   "source": [
    "def profit(info):\n",
    "    total_cost = info['cost_price'] * info['inventory']\n",
    "    total_price = info['sell_price'] * info['inventory']\n",
    "    total_profit = total_price - total_cost\n",
    "    print(total_profit)\n",
    "\n",
    "\n",
    "profit({\n",
    "  \"cost_price\": 32.67,\n",
    "  \"sell_price\": 45.00,\n",
    "  \"inventory\": 1200\n",
    "})"
   ]
  },
  {
   "cell_type": "code",
   "execution_count": null,
   "id": "resistant-desire",
   "metadata": {},
   "outputs": [],
   "source": []
  }
 ],
 "metadata": {
  "kernelspec": {
   "display_name": "Python 3",
   "language": "python",
   "name": "python3"
  },
  "language_info": {
   "codemirror_mode": {
    "name": "ipython",
    "version": 3
   },
   "file_extension": ".py",
   "mimetype": "text/x-python",
   "name": "python",
   "nbconvert_exporter": "python",
   "pygments_lexer": "ipython3",
   "version": "3.6.9"
  }
 },
 "nbformat": 4,
 "nbformat_minor": 5
}
